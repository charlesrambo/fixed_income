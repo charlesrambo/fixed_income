{
 "cells": [
  {
   "cell_type": "markdown",
   "metadata": {},
   "source": [
    "# Objective\n",
    "In this exercise, we will model the term structure and use it to calculate the no arbitrage price of a convertable bond. To do this, we will estimate the time $t$ short rate $r_t$ and suppose the Expectation Hypothesis holds. That is, we will use an estimate $\\hat{r}_t$ for $r_t$ and then approximate the time $t$ yield of a bond maturing at time $T$, i.e. $y_t(T)$, via \n",
    "$$\n",
    "\\hat{y}_t(T) = \\frac{1}{T - t}\\int_t^T \\hat{r}_s\\ ds.\n",
    "$$\n",
    "The yield $\\hat{y}$ is a continously componded rate in this calculation. See [França and Gaspar](https://cemapre.iseg.ulisboa.pt/archive/seminars/328.pdf) for a discussion of the validity of the Expectation Hypothesis.\n",
    "\n",
    "The short rate will be modeled by one-factor and two-factor Vasicek processes. In particular, we will suppose\n",
    "$$\n",
    "\\hat{r}_t = \\rho_t^{(0)}\\quad\\text{or}\\quad \\hat{r}_t = \\rho_t^{(0)} + \\rho_t^{(1)}\n",
    "$$\n",
    "where\n",
    "$$\n",
    "d\\rho_t^{(i)} = \\kappa_i \\left(\\theta_i - \\rho_t^{(i)}\\right)\\ dt + \\sigma_i\\ dW^{(i)}.\n",
    "$$\n",
    "The stochastic processes $W^{(0)}$ and $W^{(1)}$ denote independent Brownian motions under the risk neutral measure $\\mathbb{Q}$.\n",
    "\n",
    "To obtain the parameters $\\kappa_i,\\ \\theta_i,\\ \\text{and}\\ \\sigma_i$, we will use the zero-coupon bond yields published on the [Treasury Department website](https://www.treasury.gov/resource-center/data-chart-center/interest-rates/pages/textview.aspx?data=yield). The table gives yields for a set maturities which we will call $\\mathcal{T}$. We annualize the yields and convert them into a continously compounded rates $y_t(T)$ for $T$ in $\\mathcal{T}$. Then the parameters are approximated by minimizing\n",
    "$$\n",
    "\\sum_{T\\in\\mathcal{T}} w_T\\left[y_t(T) - \\hat{y}_t(T)\\right]^2.\n",
    "$$\n",
    "The value $w_T$ is a weight and will be explained further later in this exercise. The initial time $t$ corresponds to May 19, 2021.\n",
    "\n",
    "After we have modeled the short rate, the remainder of the convertable bond valuation is standard complex derivative valuation. We suppose the time $s$ underlying stock price $S_s$ satisfies the stochastic differential equation\n",
    "$$\n",
    "dS_s =\\ \\hat{r}_t\\ S_s\\ dt + \\sigma_S S_s\\ dW^{(S)},\n",
    "$$\n",
    "where $W^{(S)}$ denotes a third independent Brownian motion under $\\mathbb{Q}$.\n",
    "Let $K$, $m$, and $B$ denote the convertable bond strike price, maturity, and pay-off if not exercised, respectivly. Then the value of the convertable bond is approximately\n",
    "$$\n",
    "\\mathbb{E}_t^{\\mathbb{Q}}\\left[\\exp\\left(-\\int_t^m \\hat{r}_s\\ ds\\right)\\cdot\\left( S_m\\mathbb{1}_{S_m \\geq K} + B\\mathbb{1}_{S_m < K}\\right)\\right].\n",
    "$$\n",
    "\n",
    "# Packages"
   ]
  },
  {
   "cell_type": "code",
   "execution_count": 247,
   "metadata": {},
   "outputs": [],
   "source": [
    "import numpy as np\n",
    "import scipy.stats as stats\n",
    "import scipy.optimize as opt\n",
    "import matplotlib.pyplot as plt\n",
    "import time\n",
    "\n",
    "# Start the clock!\n",
    "start_time = time.time()\n",
    "\n",
    "# Use LaTeX in graphs\n",
    "plt.rcParams.update({\"text.usetex\": True})"
   ]
  },
  {
   "cell_type": "markdown",
   "metadata": {},
   "source": [
    "# Yield curve data\n",
    "As mentioned previously, we obtained the data from the [Treasury Department website](https://www.treasury.gov/resource-center/data-chart-center/interest-rates/pages/textview.aspx?data=yield). Their website contains a [FAQ page](https://home.treasury.gov/policy-issues/financing-the-government/interest-rate-statistics/interest-rates-frequently-asked-questions) with further details. The yields are estimated using Treasury bills and bonds and smoothed using a cubic spline. \n",
    "\n",
    "The zero-coupon yields are compounded semiannually and written as a percent. However, we need the yields to be continously componded decimal expressions to be consistant with the rates we are modeling. Denote the semiannually compounded interest rate on the Treasury Department website by $i_t(T)$. We need to apply the transformation\n",
    "$$\n",
    "i_t(T)\\mapsto y_t(T) = 2\\log\\left(1 + \\frac{i_t(T)}{200}\\right)\n",
    "$$\n",
    "to convert the yields to continously compounded decimal expressions $y_t(T)$ for $T$ in $\\mathcal{T}$. The value $T$ is measured in years. The Treasury Department website was accessed on May 19, 2021, so $t$ corresponds to this value. For computational ease, we suppose $t = 0$ corresponds to May 19, 2021. The raw zero-coupon bond yields we used are shown below.\n",
    "$$\n",
    "\\begin{array}{c | c c c c c c c c c c c c}\n",
    "  T    &  \\frac{1}{12}  & \\frac{2}{12}  & \\frac{3}{12}  & \\frac{6}{12}  & 1  & 2  & 3  & 5  & 7  & 10  & 20  & 30\\\\\\hline\n",
    " i_t(T)  &  0.00  & 0.01 & 0.01  & 0.03  & 0.05  & 0.16  & 0.35  & 0.87  & 1.34  & 1.68  & 2.3  & 2.38\n",
    "\\end{array}\n",
    "$$\n",
    "\n"
   ]
  },
  {
   "cell_type": "code",
   "execution_count": 248,
   "metadata": {},
   "outputs": [
    {
     "data": {
      "image/png": "[encoded data removed]",
      "text/plain": [
       "<Figure size 864x648 with 1 Axes>"
      ]
     },
     "metadata": {
      "needs_background": "light"
     },
     "output_type": "display_data"
    }
   ],
   "source": [
    "# Initialize rates array\n",
    "rates = np.zeros((2, 12))\n",
    "\n",
    "# The 0-th row denotes the maturity times, i.e. the T-values\n",
    "rates[0, :] = [1/12, 2/12, 3/12, 6/12, 1, 2, 3, 5, 7, 10, 20, 30]\n",
    "\n",
    "# The 1st row denotes the yields; currently these are semi-annually compounded values\n",
    "rates[1, :] = [0.00, 0.01, 0.01, 0.03, 0.05, 0.16, 0.35, 0.87, 1.34, 1.68, 2.3, 2.38]\n",
    "\n",
    "# Convert to continously compounded values\n",
    "rates[1, :] = 2 * np.log(1 + rates[1, :]/200)\n",
    "\n",
    "# We will graph the yield curve\n",
    "fig, ax = plt.subplots(1, 1, figsize = (12, 9))\n",
    "\n",
    "# Record title and label axes\n",
    "ax.set_title(r'Yield curve', fontsize = 20)\n",
    "ax.set_xlabel(r'Maturity $(T)$', fontsize = 18) \n",
    "ax.set_ylabel(r'Yield $\\Big(y_T(t)\\Big)$', fontsize = 18) \n",
    "\n",
    "# Plots\n",
    "ax.plot(rates[0, :], rates[1, :], color = 'black', label = 'Interpolated', linestyle = 'dashed', zorder = 0)\n",
    "ax.scatter(rates[0, :], rates[1, :], color = 'orange', label = 'True', zorder = 1)\n",
    "\n",
    "# Add legend to plot; placement is automatic\n",
    "ax.legend(fontsize = 18)\n",
    "\n",
    "plt.show()"
   ]
  },
  {
   "cell_type": "markdown",
   "metadata": {},
   "source": [
    "# Vasicek model\n",
    "Following the formulas in [França and Gaspar](https://cemapre.iseg.ulisboa.pt/archive/seminars/328.pdf), under the Vasicek model the price of a zero-coupon bond at $t = 0$, which pays 1 at $T$, is\n",
    "$$\n",
    "P(T;\\ \\hat{r}) = A(T) \\exp\\Big[-\\hat{r}_0\\cdot B(T)\\Big]\n",
    "$$\n",
    "where\n",
    "$$\n",
    "A(T) = \\exp\\left[\\left(\\theta - \\frac{\\sigma^2}{2\\kappa^2}\\right)\\Big(B(T) - T\\Big) - \\frac{\\sigma^2}{4\\kappa}\\Big(B(T)\\Big)^2\\right]\n",
    "$$\n",
    "and\n",
    "$$\n",
    "B(T) = \\frac{1}{\\kappa}\\left[1 - \\exp(-\\kappa T)\\right].\n",
    "$$\n",
    "Therefore, the approximation of the true yield with a one-factor Vasicek model is\n",
    "$$\n",
    "\\hat{y}_0\\left(T;\\ \\rho^{(0)}\\right) = -\\frac{1}{T}\\log P(T;\\ \\hat{r}_0 = \\rho^{(0)}) = -\\frac{1}{T}\\left[\\left(\\theta - \\frac{\\sigma^2}{2\\kappa^2}\\right)\\Big(B(T) - T\\Big) - \\frac{\\sigma^2}{4\\kappa}\\Big(B(T)\\Big)^2 -\\rho_0\\cdot B(T)\\right].\n",
    "$$\n",
    "\n",
    "The yield for a two-factor Vasicek is simply the sum of two yields as calculated above. To see why, first recall that the Brownian motions within the diffusion terms of the stochastic differential equations for $\\rho^{(0)}$ and $\\rho^{(1)}$ are independent. This implies\n",
    "\\begin{align*}\n",
    "P\\left(T; \\hat{r} = \\rho^{(0)} + \\rho^{(1)}\\right) \n",
    "&= \\mathbb{E}_t^{\\mathbb{Q}}\\left[\\exp\\left(-\\int_0^T \\hat{r}_s\\ ds\\right)\\right]\\\\\n",
    "&= \\mathbb{E}_t^{\\mathbb{Q}}\\left[\\exp\\left(-\\int_0^T \\rho^{(0)}_s + \\rho^{(1)}_s\\ ds\\right)\\right]\\\\\n",
    "&= \\mathbb{E}_t^{\\mathbb{Q}}\\left[\\exp\\left(-\\int_0^T \\rho^{(0)}_s\\ ds\\right)\\exp\\left(-\\int_0^T\\rho^{(1)}_s\\ ds\\right)\\right]\\\\\n",
    "&= \\mathbb{E}_t^{\\mathbb{Q}}\\left[\\exp\\left(-\\int_0^T \\rho^{(0)}_s\\ ds\\right)\\right]\\mathbb{E}_t^{\\mathbb{Q}}\\left[\\exp\\left(-\\int_0^T \\rho^{(1)}_s\\ ds\\right)\\right]\\\\\n",
    "&= P\\left(T; \\rho^{(0)}\\right)P\\left(T; \\rho^{(1)}\\right).\n",
    "\\end{align*}\n",
    "Therefore, the approximation of the true yield using a two-factor Vasicek model is\n",
    "\n",
    "\\begin{align*}\n",
    "\\hat{y}_0(T;\\ \\rho^{(0)} + \\rho^{(1)}) &= -\\frac{1}{T}\\log P\\left(T;\\ \\hat{r} = \\rho^{(0)} + \\rho^{(1)}\\right)\\\\\n",
    "&= -\\frac{1}{T}\\log\\Big[ P\\left(T;\\ \\rho^{(0)}\\right) P\\left(T;\\ \\rho^{(1)}\\right)\\Big]\\\\\n",
    "&= -\\frac{1}{T}\\log P\\left(T;\\ \\rho^{(0)}\\right) - \\frac{1}{T}\\log P\\left(T;\\ \\rho^{(1)}\\right)\\\\\n",
    "&= \\hat{y}_0\\left(T;\\ \\rho^{(0)}\\right) + \\hat{y}_0\\left(T;\\ \\rho^{(1)}\\right).\n",
    "\\end{align*}\n"
   ]
  },
  {
   "cell_type": "code",
   "execution_count": 249,
   "metadata": {},
   "outputs": [],
   "source": [
    "# Price at t = 0 of a bond with maturity at time T = 0\n",
    "def vasicek1_yield(T, pars):\n",
    "    \n",
    "    # Recrod parameters; makes code more readable\n",
    "    ρ_0 = pars[0]\n",
    "    κ = pars[1]\n",
    "    θ = pars[2]\n",
    "    σ = pars[3]\n",
    "    \n",
    "    # Define function for B\n",
    "    B = lambda T: (1/κ) * (1 - np.exp(-κ * T))\n",
    "    \n",
    "    # Calculate 0th term within exponent of A function\n",
    "    term_0 = (θ - σ**2/(2 * κ**2)) * (B(T) - T)\n",
    "    \n",
    "    # Calculate 1st term within exponent of A function\n",
    "    term_1 = (-σ**2/(4 * κ)) * (B(T))**2\n",
    "    \n",
    "    return (-1/T) * (term_0 + term_1 - ρ_0 * B(T))\n",
    "\n",
    "# 2-fractor Vasicek is simply sum of individual factors\n",
    "vasicek2_yield = lambda T, pars: vasicek1_yield(T, pars[0:4]) + vasicek1_yield(T, pars[4:8])"
   ]
  },
  {
   "cell_type": "markdown",
   "metadata": {},
   "source": [
    "# Fitting the parameters\n",
    "A one-factor Vasicek model requires us to estimate the four parameters\n",
    "$$\n",
    "\\rho_0^{(i)},\\ \\kappa_i,\\ \\theta_i,\\ \\text{and}\\ \\sigma_i.\n",
    "$$\n",
    "corresponding to $i = 0$. A two-factor Vasicek model has eight parameters, corresponding to the ones listed above for $i = 0$ and $1$.\n",
    "\n",
    "We will estimate these parameters by minimizing\n",
    "$$\n",
    "\\sum_{T \\in\\mathcal{T}} w_T\\left[y_0(T) - \\hat{y}_0(T)\\right]^2\n",
    "$$\n",
    "where $w_T$ is the weight given to time $T$ maturity yields. Because we are mostly concerned with yields prior to the exercise date $m$ of the convertable bond, we let\n",
    "$$\n",
    "    w_T = \\begin{cases} 2, & T \\leq m\\\\ 1, & T > m.\\end{cases}\n",
    "$$\n",
    "This weighting system is somewhat arbitrary."
   ]
  },
  {
   "cell_type": "code",
   "execution_count": 250,
   "metadata": {},
   "outputs": [],
   "source": [
    "# Record exercise date\n",
    "exercise_date = 5\n",
    "\n",
    "# Create function to minimize\n",
    "def obj(pars, f, exercise_date):\n",
    "    \n",
    "    # Calculate square erros\n",
    "    errors = np.array([(rates[1, i] - f(rates[0, i], pars))**2 for i in range(rates.shape[1])])\n",
    "    \n",
    "    # Calculate weights; equal weighting\n",
    "    wt = np.ones(rates.shape[1])\n",
    "    \n",
    "    # Weight yields before the exercise date more so they affect the model more\n",
    "    wt[rates[0, :] <= exercise_date] = 2\n",
    "    \n",
    "    return np.sum(wt * errors)\n",
    "\n",
    "# Minimize the objective function obj to obtain optimal paramters for the ...\n",
    "\n",
    "# ... 1-fractor Vasicek model\n",
    "result1 = opt.minimize(obj, x0 = [0, 1, 0.05, 0.15], args = (vasicek1_yield, exercise_date))\n",
    "    \n",
    "# ... 2-factor Vasicek model\n",
    "result2 = opt.minimize(obj, x0 = [0, 1, -0.02, 0.10, 0, 1, 0.02, 0.10], args = (vasicek2_yield, exercise_date))\n"
   ]
  },
  {
   "cell_type": "markdown",
   "metadata": {},
   "source": [
    "We will print the results from the optimization process below. Notice, in particular, whether success is true or false and the parameter values which are labeled x in the printout. For the one- and two-factor Vasicek models the paramater orders are\n",
    "$$\n",
    "[\\rho_0^{(0)}, \\kappa_0, \\theta_0, \\sigma_0]\\quad\\text{and}\\qquad [\\rho_0^{(0)}, \\kappa_0, \\theta_0, \\sigma_0, \\rho_0^{(1)}, \\kappa_1, \\theta_1, \\sigma_1],\n",
    "$$\n",
    "respectively. \n",
    "\n",
    "The value of $\\sigma_i$ may be negative. This is not a problem because a negative value of $\\sigma_i$ will not affect the yield formulas or the diffusion term of $d\\rho^{(i)}$. It will not affect the yield formulas because $\\sigma_i$ is always squared, and it will not affect the diffusion term of $d\\rho^{(i)}$ because Brownian motion goes either up or down with equal probability.  With these considerations in mind, we tolerate the possibility of a negative $\\sigma_i$, because optimization tends to work better on an unbounded domain. "
   ]
  },
  {
   "cell_type": "code",
   "execution_count": 251,
   "metadata": {},
   "outputs": [
    {
     "data": {
      "text/plain": [
       "      fun: 2.770773817381004e-05\n",
       " hess_inv: array([[ 6.02794613e-02, -1.19601991e+00,  6.54131447e-02,\n",
       "        -1.83426875e-02],\n",
       "       [-1.19601991e+00,  9.78987255e+01, -1.00123418e+01,\n",
       "         9.73560726e+00],\n",
       "       [ 6.54131447e-02, -1.00123418e+01,  1.41151905e+00,\n",
       "        -2.06577782e+00],\n",
       "       [-1.83426875e-02,  9.73560726e+00, -2.06577782e+00,\n",
       "         6.23267897e+01]])\n",
       "      jac: array([-6.18627496e-06, -7.82752750e-07, -6.36041750e-06, -4.59423973e-07])\n",
       "  message: 'Optimization terminated successfully.'\n",
       "     nfev: 342\n",
       "      nit: 46\n",
       "     njev: 57\n",
       "   status: 0\n",
       "  success: True\n",
       "        x: array([-1.11913836e-03,  1.44023096e-01,  3.29251985e-02, -3.05038099e-05])"
      ]
     },
     "execution_count": 251,
     "metadata": {},
     "output_type": "execute_result"
    }
   ],
   "source": [
    "# Print results for 1-fractor Vasicek\n",
    "result1"
   ]
  },
  {
   "cell_type": "code",
   "execution_count": 252,
   "metadata": {},
   "outputs": [
    {
     "data": {
      "text/plain": [
       "      fun: 8.7897207812683e-07\n",
       " hess_inv: array([[ 3.53220214e+00, -8.36811422e+01,  2.27044638e+00,\n",
       "         6.73684987e+01, -3.05101120e+00, -8.92005068e+01,\n",
       "         7.85020057e+00, -4.13425159e+00],\n",
       "       [-8.36811422e+01,  3.73103349e+03, -1.25518926e+02,\n",
       "        -3.15534224e+03,  6.98968977e+01,  3.90912111e+03,\n",
       "        -2.78939849e+02,  2.21262947e+02],\n",
       "       [ 2.27044638e+00, -1.25518926e+02,  8.21832606e+00,\n",
       "         6.86951480e+01, -2.39509308e+00, -1.31294488e+02,\n",
       "         1.18796837e+01, -3.67038973e+00],\n",
       "       [ 6.73684987e+01, -3.15534224e+03,  6.86951480e+01,\n",
       "         3.15311490e+03, -5.00142211e+01, -3.29762624e+03,\n",
       "         1.85931054e+02, -2.41302679e+02],\n",
       "       [-3.05101120e+00,  6.98968977e+01, -2.39509308e+00,\n",
       "        -5.00142211e+01,  2.77215598e+00,  7.46111165e+01,\n",
       "        -7.21555185e+00,  2.76544653e+00],\n",
       "       [-8.92005068e+01,  3.90912111e+03, -1.31294488e+02,\n",
       "        -3.29762624e+03,  7.46111165e+01,  4.10009878e+03,\n",
       "        -2.94941697e+02,  2.30474183e+02],\n",
       "       [ 7.85020057e+00, -2.78939849e+02,  1.18796837e+01,\n",
       "         1.85931054e+02, -7.21555185e+00, -2.94941697e+02,\n",
       "         2.79350938e+01, -1.05592660e+01],\n",
       "       [-4.13425159e+00,  2.21262947e+02, -3.67038973e+00,\n",
       "        -2.41302679e+02,  2.76544653e+00,  2.30474183e+02,\n",
       "        -1.05592660e+01,  2.01150432e+01]])\n",
       "      jac: array([ 1.60658058e-06,  5.17324153e-07, -8.29109425e-07, -1.93392061e-07,\n",
       "        1.30135267e-06, -5.77575342e-07, -5.23040185e-07,  1.04768461e-07])\n",
       "  message: 'Optimization terminated successfully.'\n",
       "     nfev: 980\n",
       "      nit: 76\n",
       "     njev: 98\n",
       "   status: 0\n",
       "  success: True\n",
       "        x: array([ 0.0917854 ,  0.94722633, -0.05730754, -0.20659219, -0.09206063,\n",
       "        0.56825158,  0.16653643, -0.19314443])"
      ]
     },
     "execution_count": 252,
     "metadata": {},
     "output_type": "execute_result"
    }
   ],
   "source": [
    "# Print results for 2-fractor Vasicek\n",
    "result2"
   ]
  },
  {
   "cell_type": "code",
   "execution_count": 253,
   "metadata": {},
   "outputs": [
    {
     "data": {
      "image/png": "[encoded data removed]",
      "text/plain": [
       "<Figure size 864x648 with 1 Axes>"
      ]
     },
     "metadata": {
      "needs_background": "light"
     },
     "output_type": "display_data"
    }
   ],
   "source": [
    "# Record parameter values\n",
    "pars1, pars2 = result1.x, result2.x \n",
    "\n",
    "# Record maturities for the horizontal axis of the theoretical yields\n",
    "mat = np.linspace(1/12, 30, 200)\n",
    "\n",
    "# Calculate values of the theoretical yields\n",
    "est_rates1 = np.array([vasicek1_yield(m, pars1) for m in mat])\n",
    "est_rates2 = np.array([vasicek2_yield(m, pars2) for m in mat])\n",
    "\n",
    "fig, ax = plt.subplots(1, 1, figsize = (12, 9))\n",
    "\n",
    "ax.set_title('Yield curve and estimates', fontsize = 20)\n",
    "ax.plot(rates[0, :], rates[1, :], color = 'black', label = 'Interpolated', linestyle = 'dashed', zorder = 0)\n",
    "ax.plot(mat, est_rates1, label = '1-factor Vasicek', color = 'blue', zorder = 1)\n",
    "ax.plot(mat, est_rates2, label = '2-factor Vasicek', color = 'green', zorder = 2)\n",
    "ax.scatter(rates[0, :], rates[1, :], color = 'orange', label = 'True', zorder = 3)\n",
    "\n",
    "ax.set_xlabel(r'Maturity (Years)', fontsize = 18) \n",
    "ax.set_ylabel(r'Yield', fontsize = 18) \n",
    "ax.legend(fontsize = 18)\n",
    "\n",
    "plt.show()"
   ]
  },
  {
   "cell_type": "markdown",
   "metadata": {},
   "source": [
    "# Results\n",
    "Under the risk netural measure $\\mathbb{Q}$, we suppose the dynamics of stock $S_s$ are modeled by\n",
    "$$\n",
    "dS_s = \\hat{r}_sS_s\\ dt + \\sigma_S S_s\\ dW^{(S)},\n",
    "$$\n",
    "where $W^{(S)}$ denotes another independent Brownian motion under the probability measure $\\mathbb{Q}$. In order to conduct our valuation we need specific parameter values. We suppose\n",
    "$$\n",
    "S_0 = 90\\quad\\text{and}\\quad \\sigma_S = 0.20.\n",
    "$$\n",
    "We suppose that the bond can only be converted into a stock if the stock's value is above 110. If the stock does not exceed this threshold, we suppose the bond pays 100. Recall that we already supposed that the bond can only be exercised at $T = 5$."
   ]
  },
  {
   "cell_type": "code",
   "execution_count": 254,
   "metadata": {},
   "outputs": [
    {
     "name": "stdout",
     "output_type": "stream",
     "text": [
      "Recall that the convertable bond is exercised at T = 5.\n"
     ]
    }
   ],
   "source": [
    "# Convertable bond information\n",
    "S_0 = 90\n",
    "σ_S = 0.20\n",
    "strike = 110\n",
    "bond = 100\n",
    "\n",
    "print(f'Recall that the convertable bond is exercised at T = {exercise_date}.')"
   ]
  },
  {
   "cell_type": "markdown",
   "metadata": {},
   "source": [
    "In the following steps, we run the Monte Carlo simulations. If each simulated path has $N$ steps, then the time elapsed between the start of consecutive steps is $\\delta = T/N$. We will suppose that the process is deterministic within each time interval $\\left[t + n\\delta, t + n\\delta + \\delta\\right)$ for $n = 0, 1,\\ldots N - 1$. Since $W_{t + n\\delta + \\delta} - W_{t + n\\delta} \\sim{\\mathcal{N}(0, \\delta)}$, we can approximate the the path of each Brownian motion by sampling $Z\\sim{\\mathcal{N}(0, 1)}$ and using\n",
    "$$\n",
    "\\sqrt{\\delta}Z\\quad\\text{for}\\quad W_{t + n\\delta + \\delta} - W_{t + n\\delta}.\n",
    "$$\n",
    "\n",
    "Under the assumption that $\\hat{r}_s$ is constant from time $s$ to $s + \\delta$, we can solve the stochastic differential equation which governs the movement of $S_s$. We have\n",
    "$$\n",
    "dS_s = \\hat{r}_s S_s\\ dt + \\sigma_S S_s\\ dW^{(S)}\\quad\\text{implies}\\quad S_{s + \\delta} = S_s\\exp\\left[\\left(\\hat{r}_s - \\frac{\\sigma_S^2}{2}\\right)\\delta + \\sigma_S\\sqrt{\\delta} Z\\right].\n",
    "$$\n",
    "The approximation\n",
    "$$\n",
    "e^x \\approx 1 + x\n",
    "$$\n",
    "allows us to say\n",
    "$$\n",
    "S_{s + \\delta} \\approx S_s + \\left(\\hat{r}_s - \\frac{\\sigma_S^2}{2}\\right)S_s\\delta + \\sigma_SS_s\\sqrt{\\delta} Z.\n",
    "$$\n",
    "\n",
    "We also need to model the movement of $\\rho^{(i)}$. We have that\n",
    "$$\n",
    "d\\rho^{(i)} = \\kappa_i (\\theta_i - \\rho^{(i)})\\ dt + \\sigma_i\\ dW^{(i)}\n",
    "\\quad\\text{implies}\\quad\n",
    "\\rho_{s + \\delta}^{(i)} = \\rho_s^{(i)} e^{-\\kappa_i\\delta} + \\theta_i - \\theta_i e^{-\\kappa_i\\delta} + \\sigma_i e^{-\\kappa_i(s + \\delta)}\\int_s^{s + \\delta} e^{\\kappa_i \\tau}\\ dW_\\tau^{(i)}.\n",
    "$$\n",
    "Using the area of one rectangle to approximate a definite integral and, once again, using $e^x\\approx 1 + x$, we have\n",
    "\\begin{align*}\n",
    "\\rho_{s + \\delta}^{(i)} \n",
    "&= \\rho_s^{(i)} e^{-\\kappa_i\\delta} + \\theta_i - \\theta_i e^{-\\kappa_i\\delta} + \\sigma_i e^{-\\kappa_i(s + \\delta)}\\int_s^{s + \\delta} e^{\\kappa_i \\tau}\\ dW_\\tau^{(i)}\\\\\n",
    "&\\approx \\rho_s^{(i)} (1 -\\kappa_i\\delta) + \\theta_i - \\theta_i (1 -\\kappa_i\\delta) + \\sigma_i e^{-\\kappa_i\\delta} \\sqrt{\\delta} Z\\\\\n",
    "&\\approx \\rho_s^{(i)} (1 -\\kappa_i\\delta) + \\theta_i - \\theta_i (1 -\\kappa_i\\delta) + \\sigma_i (1 -\\kappa_i\\delta) \\sqrt{\\delta} Z\\\\\n",
    "&= \\rho_s^{(i)} (1 -\\kappa_i\\delta) + \\kappa_i\\theta_i\\delta + \\sigma_i (1 -\\kappa_i\\delta) \\sqrt{\\delta} Z.\n",
    "\\end{align*}\n",
    "All of our approximations improve as $\\delta$ approaches zero. \n",
    "\n",
    "We considered antithetic cases of $Z$ when simulating the path of $S_s$ to reduce variance. However, we skip antithetic cases for the Vasicek rates to enhance the readability and simplicity of our code."
   ]
  },
  {
   "cell_type": "code",
   "execution_count": 255,
   "metadata": {},
   "outputs": [
    {
     "name": "stdout",
     "output_type": "stream",
     "text": [
      "Using the 1-factor Vasicek interest rate model, the price is 105.11.\n"
     ]
    }
   ],
   "source": [
    "# Simulation information\n",
    "path_steps = 500\n",
    "simulations = 10**4\n",
    "\n",
    "def run_sim1(path_steps, pars):\n",
    "    \n",
    "    # Calculate increment for each path\n",
    "    δ = exercise_date/path_steps\n",
    "    \n",
    "    # Create array to record interest rate from time s to s + δ\n",
    "    ρ_0 = np.zeros(shape = path_steps + 1)\n",
    "    \n",
    "    # Create array to record stock value at time s\n",
    "    S = np.zeros(shape = (path_steps + 1, 2))\n",
    "    \n",
    "    # Initialize array\n",
    "    ρ_0[0] = pars[0]\n",
    "    S[0, :] = S_0\n",
    "    \n",
    "    # Create array to make it easy to consider anithetic case\n",
    "    antithetic = np.array([1, -1])\n",
    "    \n",
    "    # Create function to make it easy to calculate new rho from old rho\n",
    "    def get_ρ(ρ, Z, pars):\n",
    "        \n",
    "        # Terms in expression for new row\n",
    "        term_0 = (1 - pars[1] * δ) * ρ\n",
    "        term_1 = pars[1] * pars[2] * δ\n",
    "        term_2 = pars[3] * (1 - pars[1] * δ) * np.sqrt(δ) * Z\n",
    "        \n",
    "        return term_0 + term_1 + term_2\n",
    "    \n",
    "    # Create function to make it easy to calcylate new S from old\n",
    "    get_S = lambda S, r, Z: S + S * (r - 0.5 * σ_S**2) * δ + σ_S * S * np.sqrt(δ) * Z * antithetic\n",
    "  \n",
    "    for i in range(path_steps):\n",
    "        \n",
    "        # Simulate two standard normal random variables\n",
    "        Z = stats.norm.rvs(size = 2)\n",
    "   \n",
    "        # Use one of the standard normals to calculate rho\n",
    "        ρ_0[i + 1] = get_ρ(ρ_0[i], Z[0], pars)\n",
    " \n",
    "        # Use the other to calculate Z; antithetic path is also considered\n",
    "        S[i + 1, :] = get_S(S[i, :], ρ_0[i], Z[1])\n",
    "    \n",
    "    # record final pay-off in two cases\n",
    "    result = S[path_steps, :] * (S[path_steps, :] > strike) + bond * (S[path_steps, :] <= strike) \n",
    "    \n",
    "    # Taka the mean and discount back to time t; return the result\n",
    "    return np.mean(result)/np.exp(δ * np.sum(ρ_0[0:path_steps]))\n",
    "\n",
    "# Run the simulations\n",
    "sims1 = [run_sim1(path_steps, pars1) for n in range(simulations)]\n",
    "\n",
    "# Compute the mean of the simulations; this is the price of the bond\n",
    "price_vasicek1 = np.mean(sims1)\n",
    "\n",
    "print(f'Using the 1-factor Vasicek interest rate model, the price is {round(price_vasicek1, 2)}.')"
   ]
  },
  {
   "cell_type": "code",
   "execution_count": 260,
   "metadata": {},
   "outputs": [
    {
     "data": {
      "image/png": "[encoded data removed]",
      "text/plain": [
       "<Figure size 960x720 with 1 Axes>"
      ]
     },
     "metadata": {
      "needs_background": "light"
     },
     "output_type": "display_data"
    }
   ],
   "source": [
    "# Record the number of bins in the histograms\n",
    "num_bins = 150\n",
    "\n",
    "plt.figure(figsize = (12, 9), dpi = 80)\n",
    "\n",
    "plt.title('One-factor Vasicek price', fontsize = 20)\n",
    "\n",
    "n, bins, patches = plt.hist(sims1, num_bins, density = 1, alpha = 0.5, label = 'Distribution', edgecolor = 'black')\n",
    "\n",
    "plt.vlines(price_vasicek1, 0, 0.99 * np.max(n) , colors = 'k', linestyles = 'dashed', label = 'Mean')\n",
    "plt.text(price_vasicek1, np.max(n), round(price_vasicek1, 2), ha = 'center', fontsize = 18)\n",
    "\n",
    "plt.xlim([90, 160])\n",
    "\n",
    "plt.xlabel(r'Price', fontsize = 18)\n",
    "plt.ylabel('Probability', fontsize = 18)\n",
    "plt.legend(fontsize = 18)\n",
    "\n",
    "plt.show()"
   ]
  },
  {
   "cell_type": "code",
   "execution_count": 257,
   "metadata": {},
   "outputs": [
    {
     "name": "stdout",
     "output_type": "stream",
     "text": [
      "Using the 2-factor Vasicek interest rate model, the price is 116.27.\n"
     ]
    }
   ],
   "source": [
    "def run_sim2(path_steps, pars):\n",
    "    \n",
    "    # Calculate step increment\n",
    "    δ = exercise_date/path_steps\n",
    "    \n",
    "    # Create arrays for each factor's path\n",
    "    ρ_0 = np.zeros(shape = path_steps + 1)\n",
    "    ρ_1 = np.zeros(shape = path_steps + 1)\n",
    "    \n",
    "    # Create array for Stock path\n",
    "    S = np.zeros(shape = (path_steps + 1, 2))\n",
    "    \n",
    "    # Intialize paths\n",
    "    ρ_0[0] = pars[0]\n",
    "    ρ_1[0,] = pars[4]\n",
    "    S[0, :] = S_0\n",
    "    \n",
    "    # Create array to make it easy to consider anithetic case\n",
    "    antithetic = np.array([1, -1])\n",
    "    \n",
    "    # Create function to make it easy to calculate new rho from old rho\n",
    "    def get_ρ(ρ, Z, pars):\n",
    "        \n",
    "        # Calculate terms in expression for rho\n",
    "        term_0 = (1 - pars[1] * δ) * ρ\n",
    "        term_1 = pars[1] * pars[2] * δ\n",
    "        term_2 = pars[3] * (1 - pars[1] * δ) * np.sqrt(δ) * Z\n",
    "        \n",
    "        return term_0 + term_1 + term_2\n",
    "    \n",
    "    # Create a function to make it easy to calculate new S from old S and rhos\n",
    "    get_S = lambda S, r, Z: S + S * (r - 0.5 * σ_S**2) * δ + σ_S * S * np.sqrt(δ) * Z * antithetic\n",
    "\n",
    "    for i in range(path_steps):\n",
    "        \n",
    "        # Generate three standard normals\n",
    "        Z = stats.norm.rvs(size = 3)\n",
    "   \n",
    "        # Calculate Vasicek rates\n",
    "        ρ_0[i + 1] = get_ρ(ρ_0[i], Z[0], pars[0:4])\n",
    "        ρ_1[i + 1] = get_ρ(ρ_1[i], Z[1], pars[4:8])  \n",
    "        \n",
    "        # Valuate current value of S\n",
    "        S[i + 1, :] = get_S(S[i, :], ρ_0[i] + ρ_1[i], Z[2])\n",
    "    \n",
    "    # Compute pay-off\n",
    "    result = S[path_steps, :] * (S[path_steps, :] > strike) + bond * (S[path_steps, :] <= strike) \n",
    "    \n",
    "    # Take the mean of S under the two paths and discount back to time t\n",
    "    return np.mean(result)/np.exp(δ * np.sum((ρ_0 + ρ_1)[0:path_steps]))\n",
    "\n",
    "# Run the simulations\n",
    "sims2 = [run_sim2(path_steps, pars2) for n in range(simulations)]\n",
    "\n",
    "# Compute the mean of the simulations; this is the price of the bond\n",
    "price_vasicek2 = np.mean(sims2)\n",
    "\n",
    "print(f'Using the 2-factor Vasicek interest rate model, the price is {round(price_vasicek2, 2)}.')"
   ]
  },
  {
   "cell_type": "code",
   "execution_count": 258,
   "metadata": {},
   "outputs": [
    {
     "data": {
      "image/png": "[encoded data removed]",
      "text/plain": [
       "<Figure size 960x720 with 1 Axes>"
      ]
     },
     "metadata": {
      "needs_background": "light"
     },
     "output_type": "display_data"
    }
   ],
   "source": [
    "plt.figure(figsize = (12, 9), dpi = 80)\n",
    "\n",
    "plt.title('Two-factor Vasicek price', fontsize = 20)\n",
    "\n",
    "n, bins, patches = plt.hist(sims2, num_bins, density = 1, alpha = 0.5, label = 'Distribution', edgecolor = 'black')\n",
    "\n",
    "plt.vlines(price_vasicek2, 0, 0.99 * np.max(n), colors = 'k', linestyles = 'dashed', label = 'Mean')\n",
    "plt.text(price_vasicek2, np.max(n), round(price_vasicek2, 2), ha = 'center', fontsize = 18)\n",
    "\n",
    "plt.xlim([50, 400])\n",
    "\n",
    "plt.xlabel(r'Price', fontsize = 18)\n",
    "plt.ylabel('Probability', fontsize = 18)\n",
    "plt.legend(fontsize = 18)\n",
    "\n",
    "plt.show()"
   ]
  },
  {
   "cell_type": "code",
   "execution_count": 259,
   "metadata": {},
   "outputs": [
    {
     "name": "stdout",
     "output_type": "stream",
     "text": [
      "This program took 13.5 minutes to run.\n"
     ]
    }
   ],
   "source": [
    "print('This program took {} minutes to run.'.format(round((time.time() - start_time)/60, 1)))"
   ]
  },
  {
   "cell_type": "markdown",
   "metadata": {},
   "source": [
    "# Conclusion\n",
    "The one- and two-fractor Vasicek models produced somewhat consistant estimates for the convertable bond price. In particular, both estimates produced results within about 6 of the average of about 111. The next step would be to verify that these prices are consistant with the true market value of such a bond. "
   ]
  }
 ],
 "metadata": {
  "kernelspec": {
   "display_name": "Python 3",
   "language": "python",
   "name": "python3"
  },
  "language_info": {
   "codemirror_mode": {
    "name": "ipython",
    "version": 3
   },
   "file_extension": ".py",
   "mimetype": "text/x-python",
   "name": "python",
   "nbconvert_exporter": "python",
   "pygments_lexer": "ipython3",
   "version": "3.7.7"
  }
 },
 "nbformat": 4,
 "nbformat_minor": 4
}
